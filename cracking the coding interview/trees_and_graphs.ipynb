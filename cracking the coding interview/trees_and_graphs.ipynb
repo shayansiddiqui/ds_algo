{
 "cells": [
  {
   "cell_type": "markdown",
   "metadata": {},
   "source": [
    "## Trees Basic implementation"
   ]
  },
  {
   "cell_type": "code",
   "execution_count": 2,
   "metadata": {},
   "outputs": [],
   "source": [
    "class TreeNode:\n",
    "    def __init__(self, value):\n",
    "        self.value = value\n",
    "        self.left:Node = None\n",
    "        self.right:Node = None\n",
    "            \n",
    "    def __str__(self):\n",
    "        return str(self.value)\n",
    "    \n",
    "    def  __eq__(self, other):\n",
    "        return self.value == other\n",
    "            \n",
    "class Tree:\n",
    "    def __init__(self, root:TreeNode):\n",
    "        self.root = root\n",
    "        \n",
    "    def inorder(self):\n",
    "        self._inorder(self.root)\n",
    "\n",
    "    def preorder(self):\n",
    "        self._preorder(self.root)\n",
    "        \n",
    "    def postorder(self):\n",
    "        self._postorder(self.root)        \n",
    "        \n",
    "    def _preorder(self, node):\n",
    "        if node is None:\n",
    "            return\n",
    "        print(node, end = \" \")\n",
    "        self._preorder(node.left)\n",
    "        self._preorder(node.right)\n",
    "        \n",
    "    def _inorder(self, node):\n",
    "        if node is None:\n",
    "            return\n",
    "        self._inorder(node.left)\n",
    "        print(node, end = \" \")\n",
    "        self._inorder(node.right)\n",
    "        \n",
    "    def _postorder(self, node):\n",
    "        if node is None:\n",
    "            return\n",
    "        self._postorder(node.left)\n",
    "        self._postorder(node.right)\n",
    "        print(node, end = \" \")"
   ]
  },
  {
   "cell_type": "code",
   "execution_count": 41,
   "metadata": {},
   "outputs": [
    {
     "name": "stdout",
     "output_type": "stream",
     "text": [
      "4 5 2 6 3 1 "
     ]
    }
   ],
   "source": [
    "#Manually adding node to the tree\n",
    "node1, node2, node3, node4, node5, node6 = TreeNode(1), TreeNode(2), TreeNode(3), TreeNode(4), TreeNode(5), TreeNode(6)\n",
    "node1.left = node2\n",
    "node1.right = node3\n",
    "node2.left = node4\n",
    "node2.right = node5\n",
    "node3.left = node6\n",
    "\n",
    "binaryTree = Tree(node1)\n",
    "binaryTree.postorder()"
   ]
  },
  {
   "cell_type": "markdown",
   "metadata": {},
   "source": [
    "## BST basic implementation"
   ]
  },
  {
   "cell_type": "code",
   "execution_count": 2,
   "metadata": {},
   "outputs": [],
   "source": [
    "class BST:\n",
    "    def __init__(self):\n",
    "        self.root = None\n",
    "    \n",
    "    def add(self, value):\n",
    "        if self.root is None:\n",
    "            self.root = TreeNode(value)\n",
    "        else:\n",
    "            self._add(self.root, value)\n",
    "    \n",
    "    def _add(self, node, value):\n",
    "        if value < node.value:\n",
    "            if node.left is None:\n",
    "                node.left = TreeNode(value)\n",
    "            else:\n",
    "                self._add(node.left, value)\n",
    "    \n",
    "        else:\n",
    "            if node.right is None:\n",
    "                node.right = TreeNode(value)\n",
    "            else:\n",
    "                self._add(node.right, value)\n",
    "                \n",
    "    def inorder(self):\n",
    "        Tree(self.root).inorder\n",
    "        \n",
    "    def preorder(self):\n",
    "        Tree(self.root).preorder\n",
    "\n",
    "    def postorder(self):\n",
    "        Tree(self.root).postorder        \n",
    "    "
   ]
  },
  {
   "cell_type": "markdown",
   "metadata": {},
   "source": [
    "## Graphs basic implementation"
   ]
  },
  {
   "cell_type": "code",
   "execution_count": 27,
   "metadata": {},
   "outputs": [],
   "source": [
    "from typing import List,Dict\n",
    "from collections import deque\n",
    "\n",
    "class GraphNode:\n",
    "    def __init__(self, id, value):\n",
    "        self.id = id\n",
    "        self.value = value\n",
    "        self.adjacent:List[GraphNode] = []\n",
    "            \n",
    "class Graph_Adjacency_Matrix:\n",
    "    def __init__(self):\n",
    "        self.matrix:List[List[bool]] = [[]]\n",
    "    \n",
    "class Graph_Adjacency_List:\n",
    "    def __init__(self, nodes = None):\n",
    "        if nodes:\n",
    "            self.nodes:List[GraphNode] = nodes\n",
    "        else:\n",
    "            self.nodes:List[GraphNode] = []\n",
    "\n",
    "    def add_node(self, node:GraphNode):\n",
    "        self.nodes.append(node)\n",
    "        \n",
    "    def _DFS(self, node:GraphNode, visited:Dict[GraphNode, bool]):\n",
    "        if node is None or visited[node] == True:\n",
    "            return\n",
    "        else:\n",
    "            visited[node.id] = True\n",
    "            print(node.value)\n",
    "            for adjacent_node in node.adjacent:\n",
    "                self._DFS(adjacent_node, visited)\n",
    "    \n",
    "    def DFS(self, start_node:GraphNode):\n",
    "        visited = {node.id: False for node in self.nodes}\n",
    "        self._DFS(start_node, visited)\n",
    "        \n",
    "    def BFS(self, start_node:GraphNode):\n",
    "        bfs_queue = deque([])\n",
    "        visited = {node.id : False for node in self.nodes}\n",
    "        bfs_queue.append(start_node)\n",
    "        while len(bfs_queue)>0:\n",
    "            node = bfs_queue.popleft()\n",
    "            visited[node.id] = True\n",
    "            print(node.value)\n",
    "            for adjacent_node in node.adjacent:\n",
    "                if not visited[adjacent_node.id]:\n",
    "                    bfs_queue.append(adjacent_node)"
   ]
  },
  {
   "cell_type": "code",
   "execution_count": 26,
   "metadata": {},
   "outputs": [
    {
     "name": "stdout",
     "output_type": "stream",
     "text": [
      "A\n",
      "B\n",
      "C\n",
      "D\n",
      "E\n",
      "F\n"
     ]
    }
   ],
   "source": [
    "gnode1, gnode2, gnode3, gnode4, gnode5, gnode6 = GraphNode(1, \"A\"),GraphNode(2, \"B\"),GraphNode(3, \"C\"),GraphNode(4,\"D\"),GraphNode(5, \"E\"),GraphNode(6, \"F\")\n",
    "gnode1.adjacent = [gnode2, gnode3]\n",
    "gnode2.adjacent = [gnode4, gnode5]\n",
    "gnode3.adjacent = [gnode6]\n",
    "\n",
    "graph = Graph_Adjacency_List([gnode1, gnode2, gnode3, gnode4, gnode5, gnode6])\n",
    "graph.BFS(gnode1)\n"
   ]
  },
  {
   "cell_type": "markdown",
   "metadata": {},
   "source": [
    "## 1. Find wether there is a path between 2 nodes"
   ]
  },
  {
   "cell_type": "code",
   "execution_count": 48,
   "metadata": {},
   "outputs": [],
   "source": [
    "def find_path(node1:GraphNode, node2:GraphNode, graph:Graph):\n",
    "    visited = {node.id: False for node in graph.nodes}\n",
    "    return _find_path(node1, node2, visited)\n",
    "\n",
    "def _find_path(node1:GraphNode, node2:GraphNode, visited):\n",
    "    if node1 is None or visited[node1.id] == True:\n",
    "        return False\n",
    "    elif node1.id == node2.id:\n",
    "        return True\n",
    "    else:\n",
    "        visited[node1.id] = True\n",
    "        for node in node1.adjacent:\n",
    "            exist_path = _find_path(node, node2, visited)\n",
    "            if  exist_path:\n",
    "                return True\n",
    "                break\n",
    "        return False"
   ]
  },
  {
   "cell_type": "code",
   "execution_count": 55,
   "metadata": {},
   "outputs": [
    {
     "data": {
      "text/plain": [
       "True"
      ]
     },
     "execution_count": 55,
     "metadata": {},
     "output_type": "execute_result"
    }
   ],
   "source": [
    "gnode1, gnode2, gnode3, gnode4, gnode5, gnode6 = GraphNode(1, \"A\"),GraphNode(2, \"B\"),GraphNode(3, \"C\"),GraphNode(4,\"D\"),GraphNode(5, \"E\"),GraphNode(6, \"F\")\n",
    "gnode1.adjacent = [gnode2, gnode3, gnode4]\n",
    "gnode3.adjacent = [gnode2, gnode4, gnode5]\n",
    "gnode5.adjacent = [gnode6]\n",
    "gnode6.adjacent = [gnode2, gnode4]\n",
    "\n",
    "graph = Graph([gnode1, gnode2, gnode3, gnode4, gnode5, gnode6])\n",
    "\n",
    "find_path(gnode5, gnode4, graph)"
   ]
  },
  {
   "cell_type": "markdown",
   "metadata": {},
   "source": [
    "## 2. Create a balanced tree from sorted Array"
   ]
  },
  {
   "cell_type": "code",
   "execution_count": 204,
   "metadata": {},
   "outputs": [],
   "source": [
    "def bst_from_sorted(sortedArray):\n",
    "    if len(sortedArray) == 0:\n",
    "        return None\n",
    "    elif len(sortedArray) == 1:\n",
    "        bst = BST()\n",
    "        bst.add(sortedArray[0])\n",
    "        return bst\n",
    "    else:\n",
    "        start_idx, end_idx = 0, len(sortedArray) - 1\n",
    "        bst = BST()\n",
    "#         _add_from_sorted_2(start_idx, end_idx,bst, sortedArray)\n",
    "        bst.root = _add_from_sorted_2(start_idx, end_idx, sortedArray)\n",
    "        return bst\n",
    "#O(nlogn) implementation as n elements would take logn time to add for each of the n elements            \n",
    "def _add_from_sorted(start, end, bst, sortedArray):\n",
    "    mid = (end + start) // 2\n",
    "    if start > end:\n",
    "        return\n",
    "    if start <= end:\n",
    "        bst.add(sortedArray[mid])\n",
    "    _add_from_sorted(start, mid-1, bst, sortedArray)\n",
    "    _add_from_sorted(mid+1, end, bst, sortedArray)        \n",
    "    \n",
    "#reduced time complexity   \n",
    "def _add_from_sorted_2(start,  end, sortedArray):\n",
    "    if start > end:\n",
    "        return\n",
    "    mid = (start + end) // 2\n",
    "    node =  TreeNode(sortedArray[mid])\n",
    "    node.left = _add_from_sorted_2(start, mid-1, sortedArray)\n",
    "    node.right = _add_from_sorted_2(mid+1, end, sortedArray)\n",
    "    return node"
   ]
  },
  {
   "cell_type": "code",
   "execution_count": 203,
   "metadata": {},
   "outputs": [],
   "source": [
    "new_bst = bst_from_sorted([1,2,3,4,5])"
   ]
  },
  {
   "cell_type": "markdown",
   "metadata": {},
   "source": [
    "## 3. Add each level of a binary tree into a separate linkedlist"
   ]
  },
  {
   "cell_type": "code",
   "execution_count": 105,
   "metadata": {},
   "outputs": [],
   "source": [
    "from collections import deque\n",
    "def linkedlist_from_levels(bt):\n",
    "    if bt.root is None:\n",
    "        return None\n",
    "    else:\n",
    "        linkedLists = []\n",
    "        q_child = deque([])\n",
    "        q_parent = deque([])\n",
    "        q_child.append(bt.root)\n",
    "        while len(q_child) > 0 or len(q_parent) > 0:\n",
    "            linkedList = [] #This could be an actual linked list. But an array is sufficient to solve this porblem\n",
    "            while len(q_child) > 0:\n",
    "                node = q_child.popleft()\n",
    "                if node is not None:\n",
    "                    linkedList.append(node)\n",
    "                    q_parent.append(node)\n",
    "            if len(linkedList) > 0:\n",
    "                linkedLists.append(linkedList)                \n",
    "            while len(q_parent) > 0:\n",
    "                node = q_parent.popleft()\n",
    "                if node is not None:\n",
    "                    for child in [node.left, node.right]:\n",
    "                        q_child.append(child)\n",
    "        return linkedLists"
   ]
  },
  {
   "cell_type": "code",
   "execution_count": 106,
   "metadata": {},
   "outputs": [],
   "source": [
    "node1, node2, node3, node4, node5, node6 = TreeNode(1), TreeNode(2), TreeNode(3), TreeNode(4), TreeNode(5), TreeNode(6)\n",
    "node1.left = node2\n",
    "node1.right = node3\n",
    "node2.left = node4\n",
    "node2.right = node5\n",
    "node3.left = node6\n",
    "\n",
    "binaryTree = Tree(node1)\n",
    "\n",
    "linkedLists = linkedlist_from_levels(binaryTree)"
   ]
  },
  {
   "cell_type": "code",
   "execution_count": 108,
   "metadata": {},
   "outputs": [
    {
     "data": {
      "text/plain": [
       "3"
      ]
     },
     "execution_count": 108,
     "metadata": {},
     "output_type": "execute_result"
    }
   ],
   "source": [
    "len(linkedLists)"
   ]
  },
  {
   "cell_type": "markdown",
   "metadata": {},
   "source": [
    "## 4. Check if the tree is balanced or not"
   ]
  },
  {
   "cell_type": "code",
   "execution_count": 143,
   "metadata": {},
   "outputs": [],
   "source": [
    "def check_balanced(bt):\n",
    "    if bt.root is None:\n",
    "        return True\n",
    "    else:\n",
    "        if _check_balanced(bt.root):\n",
    "            return True\n",
    "        else:\n",
    "            return False\n",
    "        \n",
    "def _check_balanced(node):\n",
    "    if node is None:\n",
    "        return True\n",
    "    elif _is_subtree_balanced(node):\n",
    "        return _check_balanced(node.left) and _check_balanced(node.right)\n",
    "    else:\n",
    "        return False\n",
    "        \n",
    "def _is_subtree_balanced(node):\n",
    "    if abs(_get_height(node.left, 0) - _get_height(node.right, 0))>1:\n",
    "        return False\n",
    "    else:\n",
    "        return True   \n",
    "        \n",
    "def _get_height(node, acc):\n",
    "    if node is None:\n",
    "        return acc\n",
    "    else:\n",
    "        return max(_get_height(node.left, acc+1), _get_height(node.right, acc+1))"
   ]
  },
  {
   "cell_type": "code",
   "execution_count": 145,
   "metadata": {},
   "outputs": [
    {
     "data": {
      "text/plain": [
       "False"
      ]
     },
     "execution_count": 145,
     "metadata": {},
     "output_type": "execute_result"
    }
   ],
   "source": [
    "node1, node2, node3, node4, node5, node6 = TreeNode(1), TreeNode(2), TreeNode(3), TreeNode(4), TreeNode(5), TreeNode(6)\n",
    "node1.left = node2\n",
    "node1.right = node3\n",
    "node2.left = node4\n",
    "node4.left = node5\n",
    "node3.left = node6\n",
    "\n",
    "binaryTree = Tree(node1)\n",
    "check_balanced(binaryTree)"
   ]
  },
  {
   "cell_type": "markdown",
   "metadata": {},
   "source": [
    "## 5. Check if a tree is a binary search tree"
   ]
  },
  {
   "cell_type": "code",
   "execution_count": 247,
   "metadata": {},
   "outputs": [],
   "source": [
    "#!! Wrong\n",
    "#Following code is a trap where you may be tempted to think that if you check each subtree you may see that entire tree is BST. which is a wrong assumption\n",
    "def _check_bst(root):\n",
    "    if root is None:\n",
    "        return True\n",
    "    elif root.left is None and root.right is None:\n",
    "        return True\n",
    "    elif root.left is not None and root.left.value< root.value and root.right is not None and root.right.value>= root.value:\n",
    "        return check_bst(root.left) and check_bst(root.right)\n",
    "    elif root.left is None and root.right is not None and root.right.value >=root.value:\n",
    "        return check_bst(root.right)\n",
    "    elif root.left is not None and root.left.value < root.value and root.right is None:\n",
    "        return check_bst(root.left)\n",
    "    else:\n",
    "        return False\n",
    "    \n",
    "#This also works by checking the range for each of the subtrees. Every value should be smaller than the max value and greater than the min value    \n",
    "#O(n)\n",
    "def _check_bst_correct(root, min_, max_):\n",
    "    if root is None:\n",
    "        return True\n",
    "    elif (min_ is not None and root.value <= min_) or (max_ is not None and root.value > max_):\n",
    "        return False\n",
    "    elif not _check_bst_correct(root.left, min_, root.value) or not _check_bst_correct(root.right, root.value, max_):\n",
    "        return False\n",
    "    else:\n",
    "        return True"
   ]
  },
  {
   "cell_type": "code",
   "execution_count": 248,
   "metadata": {},
   "outputs": [
    {
     "data": {
      "text/plain": [
       "False"
      ]
     },
     "execution_count": 248,
     "metadata": {},
     "output_type": "execute_result"
    }
   ],
   "source": [
    "node20, node10, node30, node25 = TreeNode(20), TreeNode(10), TreeNode(30), TreeNode(25)\n",
    "node20.left = node10\n",
    "node20.right = node30\n",
    "node10.right = node25\n",
    "\n",
    "_check_bst_correct(node20, None, None)"
   ]
  },
  {
   "cell_type": "markdown",
   "metadata": {},
   "source": [
    "## 6. Inorder successor of a node in BST"
   ]
  },
  {
   "cell_type": "code",
   "execution_count": 4,
   "metadata": {},
   "outputs": [],
   "source": [
    "class TreeNodeWithParent:\n",
    "    def __init__(self, value):\n",
    "        self.value = value\n",
    "        self.left = None\n",
    "        self.right = None\n",
    "        self.parent = None"
   ]
  },
  {
   "cell_type": "code",
   "execution_count": 5,
   "metadata": {},
   "outputs": [],
   "source": [
    "def get_successor(node):\n",
    "    if node.right is not None:\n",
    "        return leftMostChild(node.right)\n",
    "    else:\n",
    "        while node.parent is not None and node.parent.right == node:\n",
    "            node = node.parent\n",
    "        return node\n",
    "\n",
    "def leftMostChild(root):\n",
    "    while root.left is not None:\n",
    "        root=root.left\n",
    "    return root"
   ]
  },
  {
   "cell_type": "code",
   "execution_count": 6,
   "metadata": {},
   "outputs": [
    {
     "data": {
      "text/plain": [
       "7"
      ]
     },
     "execution_count": 6,
     "metadata": {},
     "output_type": "execute_result"
    }
   ],
   "source": [
    "#Test runs\n",
    "t1, t2, t3, t4, t5, t6, t7 = TreeNodeWithParent(1), TreeNodeWithParent(2), TreeNodeWithParent(3), TreeNodeWithParent(4), TreeNodeWithParent(5), TreeNodeWithParent(6), TreeNodeWithParent(7)\n",
    "t4.left = t2\n",
    "t4.right = t6\n",
    "t2.left=t1\n",
    "t2.right = t3\n",
    "t6.left = t5\n",
    "t6.right = t7\n",
    "t2.parent = t4\n",
    "t6.parent = t4\n",
    "t1.parent, t3.parent = t2, t2\n",
    "t5.parent, t7.parent = t6, t6\n",
    "get_successor(t6).value"
   ]
  },
  {
   "cell_type": "markdown",
   "metadata": {},
   "source": [
    "## 7. Build projects as per dependencies"
   ]
  },
  {
   "cell_type": "code",
   "execution_count": 15,
   "metadata": {},
   "outputs": [],
   "source": [
    "class ProjectNode:\n",
    "    def __init__(self, value):\n",
    "        self.value=value\n",
    "        self.dependencies = 0\n",
    "        self.children = []\n",
    "\n",
    "class DependencyGraph:\n",
    "    def __init__(self, projects):\n",
    "        self.projects = projects\n",
    "        self.project_nodes = {project : ProjectNode(project) for project in projects}\n",
    "        self.has_dependency = {project : False for project in projects}\n",
    "    \n",
    "    def initialize(self, dependency_list):\n",
    "        for child, parent in dependency_list:\n",
    "            parent_node = self.project_nodes[parent]\n",
    "            child_node = self.project_nodes[child]\n",
    "            parent_node.children.append(child_node)\n",
    "            child_node.dependencies+=1\n",
    "            self.has_dependency[child] = True\n",
    "        return self\n",
    "      \n",
    "def _build_projects(projects, dg, order,has_built):\n",
    "    for project in projects:\n",
    "            project_node = dg.project_nodes[project]\n",
    "            if not has_built[project] and project_node.dependencies == 0:\n",
    "                order.append(project)\n",
    "                has_built[project] = True\n",
    "                for child in project_node.children:\n",
    "                    child.dependencies-=1\n",
    "    \n",
    "def build_order(projects, dependency_list):\n",
    "    order = []\n",
    "    has_built = {project:False for project in projects}\n",
    "    dg = DependencyGraph(projects).initialize(dependency_list)\n",
    "    _build_projects(projects, dg, order, has_built)\n",
    "\n",
    "    past_order_len = len(order)\n",
    "    while len(order) < len(projects):\n",
    "        _build_projects(projects, dg, order, has_built)\n",
    "        if len(order) == past_order_len:\n",
    "            print(\"No order possible\")\n",
    "            break\n",
    "    return order\n",
    "            "
   ]
  },
  {
   "cell_type": "code",
   "execution_count": 17,
   "metadata": {},
   "outputs": [
    {
     "data": {
      "text/plain": [
       "['e', 'f', 'a', 'b', 'd', 'c']"
      ]
     },
     "execution_count": 17,
     "metadata": {},
     "output_type": "execute_result"
    }
   ],
   "source": [
    "build_order(['a','b','c','d','e','f'], [('d','a'), ('b','f'), ('d','b'), ('a','f'), ('c','d')])"
   ]
  },
  {
   "cell_type": "code",
   "execution_count": 18,
   "metadata": {},
   "outputs": [
    {
     "name": "stdout",
     "output_type": "stream",
     "text": [
      "No order possible\n"
     ]
    },
    {
     "data": {
      "text/plain": [
       "['e', 'f']"
      ]
     },
     "execution_count": 18,
     "metadata": {},
     "output_type": "execute_result"
    }
   ],
   "source": [
    "build_order(['a','b','c','d','e','f'], [('a','b'), ('b','c'), ('c','d'), ('d','a'), ('c','e')])"
   ]
  },
  {
   "cell_type": "markdown",
   "metadata": {},
   "source": [
    "## 8. First common ancestor"
   ]
  },
  {
   "cell_type": "code",
   "execution_count": 41,
   "metadata": {},
   "outputs": [],
   "source": [
    "# 1. Implement using DFS to find the path and then find first divergence\n",
    "def find_path(currentNode:TreeNode, targetNodeValue):\n",
    "    if currentNode is None:\n",
    "        return []    \n",
    "    elif currentNode.value ==targetNodeValue:\n",
    "        return [currentNode.value]\n",
    "\n",
    "    leftPath = find_path(currentNode.left, targetNodeValue)\n",
    "    rightPath = find_path(currentNode.right, targetNodeValue)\n",
    "    if len(leftPath) > 0:\n",
    "        leftPath.append(currentNode.value)\n",
    "        return leftPath\n",
    "    elif len(rightPath) > 0:\n",
    "        rightPath.append(currentNode.value)\n",
    "        return rightPath\n",
    "    else:\n",
    "        return []\n",
    "    \n",
    "def firstCommonAncestor(tree, value1, value2):\n",
    "    path1 = find_path(tree.root, value1)\n",
    "    path2 = find_path(tree.root, value2)\n",
    "    len1, len2 =len(path1), len(path2)\n",
    "    if len1 is 0 or len2 is 0:\n",
    "        print (\"Either of the value is not present in the tree\")\n",
    "        return\n",
    "    \n",
    "    fca = None\n",
    "    for i in range(max(len1, len2)):\n",
    "        item1, item2 = path1.pop(), path2.pop()\n",
    "        if len(path1) == 0:\n",
    "            return item1\n",
    "        elif len(path2) == 0:\n",
    "            return item2\n",
    "\n",
    "        if item1 == item2:\n",
    "            fca = item1\n",
    "        else:\n",
    "            return fca\n",
    "        \n",
    "# 2nd solution to check the split of the tree. Not working for the case when (Not so preferred solution)\n",
    "def _firstCommonAncestor_2(root, value1, value2):\n",
    "    if root is None:\n",
    "        return None, False\n",
    "    \n",
    "    left, found_left = _firstCommonAncestor_2(root.left, value1, value2)\n",
    "    right, found_right = _firstCommonAncestor_2(root.right, value1, value2)\n",
    "    \n",
    "    if root.value == value1 or root.value == value2:\n",
    "        if left is not None or right is not None:\n",
    "            return root.value, True\n",
    "        else:\n",
    "            return root.value, False\n",
    "    \n",
    "    if left is not None and right is not None and left != right:\n",
    "        return root.value, True\n",
    "    else:\n",
    "        if found_left and right is None:\n",
    "            return left, True\n",
    "        elif found_right and left is None:\n",
    "            return right, True\n",
    "        elif not found_left and left is not None:\n",
    "            return left, False\n",
    "        elif not found_right and right is not None:\n",
    "            return right, False\n",
    "        else:\n",
    "            return None, False    \n",
    "    \n",
    "def firstCommonAncestor_2(tree, value1, value2):\n",
    "    ancestor, is_ancestor =  _firstCommonAncestor_2(tree.root, value1, value2)\n",
    "    if is_ancestor:\n",
    "        return ancestor\n",
    "    else:\n",
    "        print(\"No ancestor found\")"
   ]
  },
  {
   "cell_type": "code",
   "execution_count": 46,
   "metadata": {},
   "outputs": [
    {
     "name": "stdout",
     "output_type": "stream",
     "text": [
      "Either of the value is not present in the tree\n",
      "None\n",
      "1\n"
     ]
    }
   ],
   "source": [
    "#Manually adding node to the tree\n",
    "node1, node2, node3, node4, node5, node6 = TreeNode(1), TreeNode(2), TreeNode(3), TreeNode(4), TreeNode(5), TreeNode(6)\n",
    "node1.left = node2\n",
    "node1.right = node3\n",
    "node2.left = node4\n",
    "node2.right = node5\n",
    "node3.left = node6\n",
    "\n",
    "binaryTree = Tree(node1)\n",
    "print(firstCommonAncestor(binaryTree, 3, 10))\n",
    "print(firstCommonAncestor_2(binaryTree, 1, 4))"
   ]
  },
  {
   "cell_type": "code",
   "execution_count": null,
   "metadata": {},
   "outputs": [],
   "source": []
  }
 ],
 "metadata": {
  "kernelspec": {
   "display_name": "Python 3",
   "language": "python",
   "name": "python3"
  },
  "language_info": {
   "codemirror_mode": {
    "name": "ipython",
    "version": 3
   },
   "file_extension": ".py",
   "mimetype": "text/x-python",
   "name": "python",
   "nbconvert_exporter": "python",
   "pygments_lexer": "ipython3",
   "version": "3.6.5"
  }
 },
 "nbformat": 4,
 "nbformat_minor": 2
}
