{
 "cells": [
  {
   "cell_type": "markdown",
   "metadata": {},
   "source": [
    "## Trees Basic implementation"
   ]
  },
  {
   "cell_type": "code",
   "execution_count": 1,
   "metadata": {},
   "outputs": [],
   "source": [
    "class TreeNode:\n",
    "    def __init__(self, value):\n",
    "        self.value = value\n",
    "        self.left:Node = None\n",
    "        self.right:Node = None\n",
    "            \n",
    "    def __str__(self):\n",
    "        return str(self.value)\n",
    "            \n",
    "class Tree:\n",
    "    def __init__(self, root:TreeNode):\n",
    "        self.root = root\n",
    "        \n",
    "    def inorder(self):\n",
    "        self._inorder(self.root)\n",
    "\n",
    "    def preorder(self):\n",
    "        self._preorder(self.root)\n",
    "        \n",
    "    def postorder(self):\n",
    "        self._postorder(self.root)        \n",
    "        \n",
    "    def _preorder(self, node):\n",
    "        if node is None:\n",
    "            return\n",
    "        print(node, end = \" \")\n",
    "        self._preorder(node.left)\n",
    "        self._preorder(node.right)\n",
    "        \n",
    "    def _inorder(self, node):\n",
    "        if node is None:\n",
    "            return\n",
    "        self._inorder(node.left)\n",
    "        print(node, end = \" \")\n",
    "        self._inorder(node.right)\n",
    "        \n",
    "    def _postorder(self, node):\n",
    "        if node is None:\n",
    "            return\n",
    "        self._postorder(node.left)\n",
    "        self._postorder(node.right)\n",
    "        print(node, end = \" \")"
   ]
  },
  {
   "cell_type": "code",
   "execution_count": 41,
   "metadata": {},
   "outputs": [
    {
     "name": "stdout",
     "output_type": "stream",
     "text": [
      "4 5 2 6 3 1 "
     ]
    }
   ],
   "source": [
    "#Manually adding node to the tree\n",
    "node1, node2, node3, node4, node5, node6 = TreeNode(1), TreeNode(2), TreeNode(3), TreeNode(4), TreeNode(5), TreeNode(6)\n",
    "node1.left = node2\n",
    "node1.right = node3\n",
    "node2.left = node4\n",
    "node2.right = node5\n",
    "node3.left = node6\n",
    "\n",
    "binaryTree = Tree(node1)\n",
    "binaryTree.postorder()"
   ]
  },
  {
   "cell_type": "markdown",
   "metadata": {},
   "source": [
    "## BST basic implementation"
   ]
  },
  {
   "cell_type": "code",
   "execution_count": 2,
   "metadata": {},
   "outputs": [],
   "source": [
    "class BST:\n",
    "    def __init__(self):\n",
    "        self.root = None\n",
    "    \n",
    "    def add(self, value):\n",
    "        if self.root is None:\n",
    "            self.root = TreeNode(value)\n",
    "        else:\n",
    "            self._add(self.root, value)\n",
    "    \n",
    "    def _add(self, node, value):\n",
    "        if value < node.value:\n",
    "            if node.left is None:\n",
    "                node.left = TreeNode(value)\n",
    "            else:\n",
    "                self._add(node.left, value)\n",
    "    \n",
    "        else:\n",
    "            if node.right is None:\n",
    "                node.right = TreeNode(value)\n",
    "            else:\n",
    "                self._add(node.right, value)\n",
    "                \n",
    "    def inorder(self):\n",
    "        Tree(self.root).inorder\n",
    "        \n",
    "    def preorder(self):\n",
    "        Tree(self.root).preorder\n",
    "\n",
    "    def postorder(self):\n",
    "        Tree(self.root).postorder        \n",
    "    "
   ]
  },
  {
   "cell_type": "markdown",
   "metadata": {},
   "source": [
    "## Graphs basic implementation"
   ]
  },
  {
   "cell_type": "code",
   "execution_count": 27,
   "metadata": {},
   "outputs": [],
   "source": [
    "from typing import List,Dict\n",
    "from collections import deque\n",
    "\n",
    "class GraphNode:\n",
    "    def __init__(self, id, value):\n",
    "        self.id = id\n",
    "        self.value = value\n",
    "        self.adjacent:List[GraphNode] = []\n",
    "            \n",
    "class Graph_Adjacency_Matrix:\n",
    "    def __init__(self):\n",
    "        self.matrix:List[List[bool]] = [[]]\n",
    "    \n",
    "class Graph_Adjacency_List:\n",
    "    def __init__(self, nodes = None):\n",
    "        if nodes:\n",
    "            self.nodes:List[GraphNode] = nodes\n",
    "        else:\n",
    "            self.nodes:List[GraphNode] = []\n",
    "\n",
    "    def add_node(self, node:GraphNode):\n",
    "        self.nodes.append(node)\n",
    "        \n",
    "    def _DFS(self, node:GraphNode, visited:Dict[GraphNode, bool]):\n",
    "        if node is None or visited[node] == True:\n",
    "            return\n",
    "        else:\n",
    "            visited[node.id] = True\n",
    "            print(node.value)\n",
    "            for adjacent_node in node.adjacent:\n",
    "                self._DFS(adjacent_node, visited)\n",
    "    \n",
    "    def DFS(self, start_node:GraphNode):\n",
    "        visited = {node.id: False for node in self.nodes}\n",
    "        self._DFS(start_node, visited)\n",
    "        \n",
    "    def BFS(self, start_node:GraphNode):\n",
    "        bfs_queue = deque([])\n",
    "        visited = {node.id : False for node in self.nodes}\n",
    "        bfs_queue.append(start_node)\n",
    "        while len(bfs_queue)>0:\n",
    "            node = bfs_queue.popleft()\n",
    "            visited[node.id] = True\n",
    "            print(node.value)\n",
    "            for adjacent_node in node.adjacent:\n",
    "                if not visited[adjacent_node.id]:\n",
    "                    bfs_queue.append(adjacent_node)"
   ]
  },
  {
   "cell_type": "code",
   "execution_count": 26,
   "metadata": {},
   "outputs": [
    {
     "name": "stdout",
     "output_type": "stream",
     "text": [
      "A\n",
      "B\n",
      "C\n",
      "D\n",
      "E\n",
      "F\n"
     ]
    }
   ],
   "source": [
    "gnode1, gnode2, gnode3, gnode4, gnode5, gnode6 = GraphNode(1, \"A\"),GraphNode(2, \"B\"),GraphNode(3, \"C\"),GraphNode(4,\"D\"),GraphNode(5, \"E\"),GraphNode(6, \"F\")\n",
    "gnode1.adjacent = [gnode2, gnode3]\n",
    "gnode2.adjacent = [gnode4, gnode5]\n",
    "gnode3.adjacent = [gnode6]\n",
    "\n",
    "graph = Graph_Adjacency_List([gnode1, gnode2, gnode3, gnode4, gnode5, gnode6])\n",
    "graph.BFS(gnode1)\n"
   ]
  },
  {
   "cell_type": "markdown",
   "metadata": {},
   "source": [
    "## 1. Find wether there is a path between 2 nodes"
   ]
  },
  {
   "cell_type": "code",
   "execution_count": 48,
   "metadata": {},
   "outputs": [],
   "source": [
    "def find_path(node1:GraphNode, node2:GraphNode, graph:Graph):\n",
    "    visited = {node.id: False for node in graph.nodes}\n",
    "    return _find_path(node1, node2, visited)\n",
    "\n",
    "def _find_path(node1:GraphNode, node2:GraphNode, visited):\n",
    "    if node1 is None or visited[node1.id] == True:\n",
    "        return False\n",
    "    elif node1.id == node2.id:\n",
    "        return True\n",
    "    else:\n",
    "        visited[node1.id] = True\n",
    "        for node in node1.adjacent:\n",
    "            exist_path = _find_path(node, node2, visited)\n",
    "            if  exist_path:\n",
    "                return True\n",
    "                break\n",
    "        return False"
   ]
  },
  {
   "cell_type": "code",
   "execution_count": 55,
   "metadata": {},
   "outputs": [
    {
     "data": {
      "text/plain": [
       "True"
      ]
     },
     "execution_count": 55,
     "metadata": {},
     "output_type": "execute_result"
    }
   ],
   "source": [
    "gnode1, gnode2, gnode3, gnode4, gnode5, gnode6 = GraphNode(1, \"A\"),GraphNode(2, \"B\"),GraphNode(3, \"C\"),GraphNode(4,\"D\"),GraphNode(5, \"E\"),GraphNode(6, \"F\")\n",
    "gnode1.adjacent = [gnode2, gnode3, gnode4]\n",
    "gnode3.adjacent = [gnode2, gnode4, gnode5]\n",
    "gnode5.adjacent = [gnode6]\n",
    "gnode6.adjacent = [gnode2, gnode4]\n",
    "\n",
    "graph = Graph([gnode1, gnode2, gnode3, gnode4, gnode5, gnode6])\n",
    "\n",
    "find_path(gnode5, gnode4, graph)"
   ]
  },
  {
   "cell_type": "markdown",
   "metadata": {},
   "source": [
    "## 2. Create a balanced tree from sorted Array"
   ]
  },
  {
   "cell_type": "code",
   "execution_count": 61,
   "metadata": {},
   "outputs": [],
   "source": [
    "def bst_from_sorted(sortedArray):\n",
    "    if len(sortedArray) == 0:\n",
    "        return None\n",
    "    elif len(sortedArray) == 1:\n",
    "        bst = BST()\n",
    "        bst.add(sortedArray[0])\n",
    "        return bst\n",
    "    else:\n",
    "        start_idx, end_idx = 0, len(sortedArray) - 1\n",
    "        bst = BST()\n",
    "        _add_from_sorted(start_idx, end_idx, bst, sortedArray)\n",
    "        return bst\n",
    "            \n",
    "def _add_from_sorted(start, end, bst, sortedArray):\n",
    "    mid = ((end - start)+1) // 2\n",
    "    if start > end:\n",
    "        return\n",
    "    if start <= end:\n",
    "        bst.add(sortedArray[start+mid])\n",
    "    _add_from_sorted(start, start+mid-1, bst, sortedArray)\n",
    "    _add_from_sorted(start+mid+1, end, bst, sortedArray)        "
   ]
  },
  {
   "cell_type": "code",
   "execution_count": 62,
   "metadata": {},
   "outputs": [],
   "source": [
    "new_bst = bst_from_sorted([1,2,3,4,5])"
   ]
  },
  {
   "cell_type": "code",
   "execution_count": 63,
   "metadata": {},
   "outputs": [
    {
     "data": {
      "text/plain": [
       "1"
      ]
     },
     "execution_count": 63,
     "metadata": {},
     "output_type": "execute_result"
    }
   ],
   "source": [
    "new_bst.root.left.left.value"
   ]
  }
 ],
 "metadata": {
  "kernelspec": {
   "display_name": "Python 3",
   "language": "python",
   "name": "python3"
  },
  "language_info": {
   "codemirror_mode": {
    "name": "ipython",
    "version": 3
   },
   "file_extension": ".py",
   "mimetype": "text/x-python",
   "name": "python",
   "nbconvert_exporter": "python",
   "pygments_lexer": "ipython3",
   "version": "3.6.5"
  }
 },
 "nbformat": 4,
 "nbformat_minor": 2
}
