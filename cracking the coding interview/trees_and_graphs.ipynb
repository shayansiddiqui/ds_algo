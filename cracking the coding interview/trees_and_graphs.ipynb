{
 "cells": [
  {
   "cell_type": "markdown",
   "metadata": {},
   "source": [
    "## Trees Basic implementation"
   ]
  },
  {
   "cell_type": "code",
   "execution_count": 40,
   "metadata": {},
   "outputs": [],
   "source": [
    "class TreeNode:\n",
    "    def __init__(self, value):\n",
    "        self.value = value\n",
    "        self.left:Node = None\n",
    "        self.right:Node = None\n",
    "            \n",
    "    def __str__(self):\n",
    "        return str(self.value)\n",
    "            \n",
    "class Tree:\n",
    "    def __init__(self, root:TreeNode):\n",
    "        self.root = root\n",
    "        \n",
    "    def inorder(self):\n",
    "        self._inorder(self.root)\n",
    "\n",
    "    def preorder(self):\n",
    "        self._preorder(self.root)\n",
    "        \n",
    "    def postorder(self):\n",
    "        self._postorder(self.root)        \n",
    "        \n",
    "    def _preorder(self, node):\n",
    "        if node is None:\n",
    "            return\n",
    "        print(node, end = \" \")\n",
    "        self._preorder(node.left)\n",
    "        self._preorder(node.right)\n",
    "        \n",
    "    def _inorder(self, node):\n",
    "        if node is None:\n",
    "            return\n",
    "        self._inorder(node.left)\n",
    "        print(node, end = \" \")\n",
    "        self._inorder(node.right)\n",
    "        \n",
    "    def _postorder(self, node):\n",
    "        if node is None:\n",
    "            return\n",
    "        self._postorder(node.left)\n",
    "        self._postorder(node.right)\n",
    "        print(node, end = \" \")"
   ]
  },
  {
   "cell_type": "code",
   "execution_count": 41,
   "metadata": {},
   "outputs": [
    {
     "name": "stdout",
     "output_type": "stream",
     "text": [
      "4 5 2 6 3 1 "
     ]
    }
   ],
   "source": [
    "#Manually adding node to the tree\n",
    "node1, node2, node3, node4, node5, node6 = TreeNode(1), TreeNode(2), TreeNode(3), TreeNode(4), TreeNode(5), TreeNode(6)\n",
    "node1.left = node2\n",
    "node1.right = node3\n",
    "node2.left = node4\n",
    "node2.right = node5\n",
    "node3.left = node6\n",
    "\n",
    "binaryTree = Tree(node1)\n",
    "binaryTree.postorder()"
   ]
  },
  {
   "cell_type": "markdown",
   "metadata": {},
   "source": [
    "## Graphs basic implementation"
   ]
  },
  {
   "cell_type": "code",
   "execution_count": 20,
   "metadata": {},
   "outputs": [],
   "source": [
    "from typing import List,Dict\n",
    "from collections import deque\n",
    "\n",
    "class GraphNode:\n",
    "    def __init__(self, value):\n",
    "        self.value = value\n",
    "        self.adjacent:List[GraphNode] = []\n",
    "    \n",
    "class Graph:\n",
    "    def __init__(self, nodes = None):\n",
    "        if nodes:\n",
    "            self.nodes:List[GraphNode] = nodes\n",
    "        else:\n",
    "            self.nodes:List[GraphNode] = []\n",
    "\n",
    "    def add_node(self, node:GraphNode):\n",
    "        self.nodes.append(node)\n",
    "        \n",
    "    def _DFS(self, node:GraphNode, visited:Dict[GraphNode, bool]):\n",
    "        if node is None or visited[node] == True:\n",
    "            return\n",
    "        else:\n",
    "            visited[node] = True\n",
    "            print(node.value)\n",
    "            for adjacent_node in node.adjacent:\n",
    "                self._DFS(adjacent_node, visited)\n",
    "    \n",
    "    def DFS(self, start_node:GraphNode):\n",
    "        visited = {node: False for node in self.nodes}\n",
    "        self._DFS(start_node, visited)\n",
    "        \n",
    "    def BFS(self, start_node:GraphNode):\n",
    "        bfs_queue = deque([])\n",
    "        visited = {node : False for node in self.nodes}\n",
    "        bfs_queue.append(start_node)\n",
    "        while len(bfs_queue)>0:\n",
    "            node = bfs_queue.popleft()\n",
    "            visited[node] = True\n",
    "            print(node.value)\n",
    "            for adjacent_node in node.adjacent:\n",
    "                if not visited[adjacent_node]:\n",
    "                    bfs_queue.append(adjacent_node)\n",
    "                    \n",
    "        "
   ]
  },
  {
   "cell_type": "code",
   "execution_count": 21,
   "metadata": {},
   "outputs": [
    {
     "name": "stdout",
     "output_type": "stream",
     "text": [
      "1\n",
      "2\n",
      "3\n",
      "4\n",
      "5\n",
      "6\n"
     ]
    }
   ],
   "source": [
    "gnode1, gnode2, gnode3, gnode4, gnode5, gnode6 = GraphNode(1),GraphNode(2),GraphNode(3),GraphNode(4),GraphNode(5),GraphNode(6)\n",
    "gnode1.adjacent = [gnode2, gnode3]\n",
    "gnode2.adjacent = [gnode4, gnode5]\n",
    "gnode3.adjacent = [gnode6]\n",
    "\n",
    "graph = Graph([gnode1, gnode2, gnode3, gnode4, gnode5, gnode6])\n",
    "graph.BFS(gnode1)\n"
   ]
  },
  {
   "cell_type": "code",
   "execution_count": null,
   "metadata": {},
   "outputs": [],
   "source": []
  }
 ],
 "metadata": {
  "kernelspec": {
   "display_name": "Python 3",
   "language": "python",
   "name": "python3"
  },
  "language_info": {
   "codemirror_mode": {
    "name": "ipython",
    "version": 3
   },
   "file_extension": ".py",
   "mimetype": "text/x-python",
   "name": "python",
   "nbconvert_exporter": "python",
   "pygments_lexer": "ipython3",
   "version": "3.6.5"
  }
 },
 "nbformat": 4,
 "nbformat_minor": 2
}
