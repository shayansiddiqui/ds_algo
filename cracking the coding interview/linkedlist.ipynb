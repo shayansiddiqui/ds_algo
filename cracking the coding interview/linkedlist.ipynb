{
 "cells": [
  {
   "cell_type": "markdown",
   "metadata": {},
   "source": [
    "## Likedlist basic implementation"
   ]
  },
  {
   "cell_type": "code",
   "execution_count": 2,
   "metadata": {},
   "outputs": [],
   "source": [
    "class Node:\n",
    "    next = None\n",
    "    value:int = None\n",
    "    def __init__(self, value):\n",
    "        self.value = value\n",
    "    def __str__(self):\n",
    "        return str(self.value)\n",
    "        \n",
    "class LinkedList:\n",
    "    head:Node = None\n",
    "    \n",
    "    def add(self, value:int):\n",
    "        if self.head is None:\n",
    "            self.head = Node(value)\n",
    "        else:\n",
    "            temp=self.head\n",
    "            while temp.next is not None:\n",
    "                temp = temp.next\n",
    "            temp.next=Node(value)\n",
    "        return self\n",
    "    \n",
    "    def delete(self, value:int):\n",
    "        if self.head is None:\n",
    "            print(\"No elements in the list\")\n",
    "        elif self.head.value == value:\n",
    "            self.head = None\n",
    "        else:\n",
    "            temp=self.head\n",
    "            found=False\n",
    "            while temp.next is not None:\n",
    "                if temp.next.value == value:\n",
    "                    found=True\n",
    "                    temp.next=temp.next.next\n",
    "                temp=temp.next\n",
    "            if not found:\n",
    "                print(\"No such element found in the list\")\n",
    "        return self\n",
    "    \n",
    "    def search(self, value:int):\n",
    "        if self.head is None:\n",
    "            print(\"No elements in the list\")\n",
    "        elif self.head.value == value:\n",
    "            return self.head\n",
    "        else:\n",
    "            found = False\n",
    "            temp = self.head\n",
    "            while temp.next is not None:\n",
    "                if temp.next.value == value:\n",
    "                    found = True\n",
    "                    return temp.next\n",
    "                temp=temp.next\n",
    "            if not found:\n",
    "                print(\"No such element found\")\n",
    "    \n",
    "    def __str__(self):\n",
    "        if self.head is None:\n",
    "            return \"Empty List\"\n",
    "        else:\n",
    "            return_str=[]\n",
    "            temp = self.head\n",
    "            while temp is not None:\n",
    "                return_str.append(str(temp.value))\n",
    "                temp=temp.next\n",
    "            return \"-->\".join(return_str)\n",
    "            "
   ]
  },
  {
   "cell_type": "code",
   "execution_count": 117,
   "metadata": {},
   "outputs": [
    {
     "name": "stdout",
     "output_type": "stream",
     "text": [
      "1-->2-->3-->4\n"
     ]
    }
   ],
   "source": [
    "linkedList = LinkedList()\n",
    "linkedList.add(1).add(2).add(3).add(4)\n",
    "print(linkedList)"
   ]
  },
  {
   "cell_type": "code",
   "execution_count": 118,
   "metadata": {},
   "outputs": [
    {
     "name": "stdout",
     "output_type": "stream",
     "text": [
      "1-->2-->4\n"
     ]
    }
   ],
   "source": [
    "linkedList.delete(3)\n",
    "print(linkedList)"
   ]
  },
  {
   "cell_type": "code",
   "execution_count": 119,
   "metadata": {},
   "outputs": [
    {
     "name": "stdout",
     "output_type": "stream",
     "text": [
      "4\n"
     ]
    }
   ],
   "source": [
    "print(linkedList.search(4))"
   ]
  },
  {
   "cell_type": "markdown",
   "metadata": {},
   "source": [
    "## 1. Delete duplicate node"
   ]
  },
  {
   "cell_type": "code",
   "execution_count": 88,
   "metadata": {},
   "outputs": [],
   "source": [
    "def delete_dup(linkedList:LinkedList):\n",
    "    if linkedList.head is None:\n",
    "        print(\"Empty list\")\n",
    "        return\n",
    "    freq_table = {}\n",
    "    temp = linkedList.head\n",
    "    #creating the frequency table\n",
    "    while temp is not None:\n",
    "        if temp.value in freq_table:\n",
    "            freq_table[temp.value]+=1\n",
    "        else:\n",
    "            freq_table[temp.value]=1\n",
    "        temp=temp.next\n",
    "\n",
    "    \n",
    "    temp = linkedList.head\n",
    "    while temp.next is not None:\n",
    "        if freq_table[temp.next.value] > 1:\n",
    "            freq_table[temp.next.value]-=1\n",
    "            temp.next=temp.next.next\n",
    "        temp = temp.next"
   ]
  },
  {
   "cell_type": "code",
   "execution_count": 120,
   "metadata": {},
   "outputs": [
    {
     "name": "stdout",
     "output_type": "stream",
     "text": [
      "1-->4-->3-->4\n"
     ]
    }
   ],
   "source": [
    "linkedList = LinkedList()\n",
    "linkedList.add(1).add(4).add(3).add(4)\n",
    "print(linkedList)"
   ]
  },
  {
   "cell_type": "code",
   "execution_count": 121,
   "metadata": {},
   "outputs": [
    {
     "name": "stdout",
     "output_type": "stream",
     "text": [
      "1-->3-->4\n"
     ]
    }
   ],
   "source": [
    "delete_dup(linkedList)\n",
    "print(linkedList)"
   ]
  },
  {
   "cell_type": "markdown",
   "metadata": {},
   "source": [
    "## 2. Kth last element"
   ]
  },
  {
   "cell_type": "code",
   "execution_count": 107,
   "metadata": {},
   "outputs": [],
   "source": [
    "def kth_last(k, linkedList:LinkedList):\n",
    "    temp1 , temp2 = linkedList.head, linkedList.head\n",
    "    for i in range(k):\n",
    "        if temp2 is None:\n",
    "            print(\"Error : k is larger than the list lenght\")\n",
    "            return None\n",
    "        else:\n",
    "            temp2 = temp2.next\n",
    "\n",
    "    while temp2.next is not None:\n",
    "        temp1=temp1.next\n",
    "        temp2=temp2.next\n",
    "    \n",
    "    return temp1"
   ]
  },
  {
   "cell_type": "code",
   "execution_count": 123,
   "metadata": {},
   "outputs": [
    {
     "name": "stdout",
     "output_type": "stream",
     "text": [
      "1-->2-->3-->4-->5-->6\n",
      "4\n"
     ]
    }
   ],
   "source": [
    "linkedList = LinkedList()\n",
    "linkedList.add(1).add(2).add(3).add(4).add(5).add(6)\n",
    "print(linkedList)\n",
    "kth_last_node = kth_last(2, linkedList)\n",
    "print(kth_last_node)\n"
   ]
  },
  {
   "cell_type": "markdown",
   "metadata": {},
   "source": [
    "## 3. Delete middle element. Given access to that element"
   ]
  },
  {
   "cell_type": "code",
   "execution_count": 110,
   "metadata": {},
   "outputs": [],
   "source": [
    "def del_in_between(node, linkedList:LinkedList):\n",
    "    if node is None:\n",
    "        print(\"Error: Node is none\")\n",
    "    if linkedList.head is None:\n",
    "        print(\"Error: List is empty\")\n",
    "        return -1\n",
    "    if node.next == linkedList.head:\n",
    "        print(\"Error: Cannot delete head node\")\n",
    "        return -1\n",
    "    if node.next is None:\n",
    "        print(\"Error: Cannot delete the last node\")\n",
    "        return -1\n",
    "    node.value=node.next.value\n",
    "    node.next=node.next.next\n",
    "    return 0"
   ]
  },
  {
   "cell_type": "code",
   "execution_count": 124,
   "metadata": {},
   "outputs": [
    {
     "name": "stdout",
     "output_type": "stream",
     "text": [
      "1-->2-->3-->4-->5-->6\n",
      "1-->2-->3-->5-->6\n"
     ]
    }
   ],
   "source": [
    "linkedList = LinkedList()\n",
    "linkedList.add(1).add(2).add(3).add(4).add(5).add(6)\n",
    "print(linkedList)\n",
    "temp=linkedList.head\n",
    "while temp.value!=4:\n",
    "    temp=temp.next\n",
    "del_in_between(temp, linkedList)\n",
    "print(linkedList)"
   ]
  },
  {
   "cell_type": "markdown",
   "metadata": {},
   "source": [
    "## 4. Partition such the left is smaller than a value and right is larger than that"
   ]
  },
  {
   "cell_type": "code",
   "execution_count": 128,
   "metadata": {},
   "outputs": [],
   "source": [
    "def partition(value, linkedList:LinkedList):\n",
    "    if linkedList.head is None:\n",
    "        print(\"Error: list is empty\")\n",
    "        return None\n",
    "    left_list=LinkedList()\n",
    "    right_list=LinkedList()\n",
    "    temp=linkedList.head\n",
    "    while temp is not None:\n",
    "        if temp.value<value:\n",
    "            left_list.add(temp.value)\n",
    "        else:\n",
    "            right_list.add(temp.value)\n",
    "        temp=temp.next\n",
    "    \n",
    "    if left_list.head is None:\n",
    "        return right_list\n",
    "    elif right_list.head is None:\n",
    "        return left_list\n",
    "    else:\n",
    "        temp=left_list.head\n",
    "        while temp.next is not None:\n",
    "            temp=temp.next\n",
    "        temp.next=right_list.head\n",
    "    return left_list"
   ]
  },
  {
   "cell_type": "code",
   "execution_count": 129,
   "metadata": {},
   "outputs": [
    {
     "name": "stdout",
     "output_type": "stream",
     "text": [
      "3-->1-->6-->7-->5-->13\n"
     ]
    }
   ],
   "source": [
    "linkedList = LinkedList()\n",
    "linkedList.add(6).add(3).add(1).add(7).add(5).add(13)\n",
    "print(partition(5, linkedList))"
   ]
  },
  {
   "cell_type": "markdown",
   "metadata": {},
   "source": [
    "## 5. Sum Lists"
   ]
  },
  {
   "cell_type": "code",
   "execution_count": 166,
   "metadata": {},
   "outputs": [],
   "source": [
    "## Iterative implementation of the following\n",
    "# def sum_list_reversed(list1:LinkedList, list2:LinkedList):\n",
    "#     temp1, temp2 = list1.head, list2.head\n",
    "#     if temp1 is None:\n",
    "#         return list2\n",
    "#     elif temp2 is None:\n",
    "#         return list1\n",
    "#     else:\n",
    "#         sum_list = LinkedList()\n",
    "#         carry=0\n",
    "#         while temp1 is not None or temp2 is not None:\n",
    "#             sum = carry\n",
    "#             if temp1 is not None:\n",
    "#                 sum+=temp1.value\n",
    "#                 temp1=temp1.next\n",
    "#             if temp2 is not None:\n",
    "#                 sum+=temp2.value\n",
    "#                 temp2=temp2.next\n",
    "#             sum_digit=sum % 10\n",
    "#             carry = sum //10\n",
    "#             sum_list.add(sum_digit)\n",
    "#         if carry != 0:\n",
    "#             sum_list.add(carry)\n",
    "#         return sum_list\n",
    "\n",
    "def sum_list_reversed(list1:LinkedList, list2:LinkedList):\n",
    "    temp1, temp2 = list1.head, list2.head\n",
    "    if temp1 is None:\n",
    "        return list2\n",
    "    elif temp2 is None:\n",
    "        return list1\n",
    "    else:\n",
    "        return _sum_helper_reversed(list1.head, list2.head, 0, LinkedList())\n",
    "    \n",
    "def _sum_helper_reversed(node1, node2, carry, sum_list):\n",
    "    sum=carry\n",
    "    if node1 is not None:\n",
    "        sum+=node1.value\n",
    "    if node2 is not None:\n",
    "        sum+=node2.value\n",
    "    if node1 is None and node2 is None:\n",
    "        return sum_list\n",
    "    sum_digit = sum % 10\n",
    "    carry = sum // 10\n",
    "    sum_list.add(sum_digit)\n",
    "    return _sum_helper_reversed(node1.next if node1 else None, node2.next if node2 else None, carry, sum_list)"
   ]
  },
  {
   "cell_type": "code",
   "execution_count": 167,
   "metadata": {},
   "outputs": [
    {
     "name": "stdout",
     "output_type": "stream",
     "text": [
      "2-->1-->9\n"
     ]
    }
   ],
   "source": [
    "list1, list2 = LinkedList(), LinkedList()\n",
    "list1.add(7).add(1).add(6)\n",
    "list2.add(5).add(9).add(2)\n",
    "print(sum_list_reversed(list1, list2))"
   ]
  },
  {
   "cell_type": "markdown",
   "metadata": {},
   "source": [
    "## 5. Sum Lists(Follow up/Forward)"
   ]
  },
  {
   "cell_type": "code",
   "execution_count": 170,
   "metadata": {},
   "outputs": [],
   "source": [
    "def sum_list(list1:LinkedList, list2:LinkedList):\n",
    "    temp1, temp2 = list1.head, list2.head\n",
    "    if temp1 is None:\n",
    "        return list2\n",
    "    elif temp2 is None:\n",
    "        return list1\n",
    "    else:\n",
    "        length1, length2 = 0, 0\n",
    "        while temp1 is not None:\n",
    "            length1+=1\n",
    "            temp1=temp1.next\n",
    "        while temp2 is not None:\n",
    "            length2+=1\n",
    "            temp2=temp2.next\n",
    "            \n",
    "        if length1<length2:\n",
    "            _add_zeros(list1, abs(length1-length2))\n",
    "        else:\n",
    "            _add_zeros(list2, abs(length1-length2))\n",
    "            \n",
    "        sum_list = LinkedList()\n",
    "        additional_carry = _sum_helper(list1.head, list2.head, sum_list)\n",
    "        if additional_carry > 0:\n",
    "            new_node = Node(additional_carry)\n",
    "            new_node.next = sum_list.head\n",
    "            sum_list.head = new_node\n",
    "        return sum_list\n",
    "    \n",
    "def _sum_helper(node1, node2, sum_list):\n",
    "    if node1 is None and node2 is None:\n",
    "        return 0\n",
    "    else:\n",
    "        carry = _sum_helper(node1.next if node1 else None, node2.next if node2 else None, sum_list)\n",
    "        sum=carry\n",
    "        sum+=node1.value\n",
    "        sum+=node2.value\n",
    "        sum_digit = sum % 10\n",
    "        carry = sum // 10\n",
    "        new_node = Node(sum_digit)\n",
    "        new_node.next=sum_list.head\n",
    "        sum_list.head=new_node\n",
    "        return carry\n",
    "\n",
    "def _add_zeros(linkedList:LinkedList, no_of_zeros):\n",
    "    for i in range(no_of_zeros):\n",
    "        new_node = Node(0)\n",
    "        new_node.next = linkedList.head\n",
    "        linkedList.head = new_node"
   ]
  },
  {
   "cell_type": "code",
   "execution_count": 172,
   "metadata": {},
   "outputs": [
    {
     "name": "stdout",
     "output_type": "stream",
     "text": [
      "1-->9-->5\n"
     ]
    }
   ],
   "source": [
    "list1, list2 = LinkedList(), LinkedList()\n",
    "list1.add(1).add(0).add(0)\n",
    "list2.add(9).add(5)\n",
    "print(sum_list(list1, list2))"
   ]
  },
  {
   "cell_type": "markdown",
   "metadata": {},
   "source": [
    "## 6. Palindrome"
   ]
  },
  {
   "cell_type": "code",
   "execution_count": 243,
   "metadata": {},
   "outputs": [],
   "source": [
    "## !Important to keep in mind that fast pointer if ends at non None node its odd else even.\n",
    "\n",
    "def is_palindrome(linkedList: LinkedList):\n",
    "    if linkedList.head is None:\n",
    "        return True\n",
    "    if linkedList.head.next is None:\n",
    "        return True\n",
    "    slow, fast = linkedList.head, linkedList.head\n",
    "    stack = []\n",
    "    while fast is not None and fast.next is not None:\n",
    "        stack.append(slow.value)\n",
    "        fast = fast.next.next\n",
    "        slow = slow.next\n",
    "\n",
    "    if fast is not None:\n",
    "        slow=slow.next\n",
    "        \n",
    "    while slow:\n",
    "        if slow.value != stack.pop():\n",
    "            return False            \n",
    "        slow=slow.next\n",
    "    return True"
   ]
  },
  {
   "cell_type": "code",
   "execution_count": 248,
   "metadata": {},
   "outputs": [
    {
     "data": {
      "text/plain": [
       "True"
      ]
     },
     "execution_count": 248,
     "metadata": {},
     "output_type": "execute_result"
    }
   ],
   "source": [
    "list1 = LinkedList()\n",
    "list1.add(1).add(2).add(2).add(1)\n",
    "is_palindrome(list1)"
   ]
  },
  {
   "cell_type": "markdown",
   "metadata": {},
   "source": [
    "## 7. Intersection of 2 linked lists"
   ]
  },
  {
   "cell_type": "code",
   "execution_count": 250,
   "metadata": {},
   "outputs": [],
   "source": [
    "def find_intersection(list1, list2):\n",
    "    temp1, temp2 = list1.head, list2.head\n",
    "    length1, length2 = 0, 0\n",
    "    hasIntersection = False\n",
    "    while temp1 is not None:\n",
    "        temp1=temp1.next\n",
    "        length1+=1\n",
    "        \n",
    "    while temp2 is not None:\n",
    "        temp2=temp2.next\n",
    "        length2+=1\n",
    "    \n",
    "    if temp1 == temp2:\n",
    "        hasIntersection = True\n",
    "    \n",
    "    temp1, temp2 = list1.head, list2.head\n",
    "    diff = abs(length1 - length2)\n",
    "    \n",
    "    if length1 > length2:\n",
    "        for i in range(diff):\n",
    "            temp1 = temp1.next\n",
    "    else:\n",
    "        for i in range(diff):\n",
    "            temp2 = temp2.next\n",
    "            \n",
    "    while temp1 is not None and temp2 is not None:\n",
    "        if temp1 == temp2:\n",
    "            return temp\n",
    "        else:\n",
    "            temp1 = temp1.next\n",
    "            temp2 = temp2.next"
   ]
  },
  {
   "cell_type": "code",
   "execution_count": 257,
   "metadata": {},
   "outputs": [
    {
     "name": "stdout",
     "output_type": "stream",
     "text": [
      "a-->b-->c-->d-->e-->5-->6-->7 1-->2-->3-->4-->6-->7\n",
      "5\n"
     ]
    }
   ],
   "source": [
    "list1 = LinkedList()\n",
    "list1.add('a').add('b').add('c').add('d').add('e').add(5).add(6).add(7)\n",
    "\n",
    "list2 = LinkedList()\n",
    "list2.add(1).add(2).add(3).add(4)\n",
    "\n",
    "pointer1, pointer2 = list1.head, list2.head\n",
    "while pointer1.value != 6:\n",
    "    pointer1=pointer1.next\n",
    "\n",
    "while pointer2.value !=4:\n",
    "    pointer2=pointer2.next\n",
    "pointer2.next=pointer1\n",
    "\n",
    "print(list1, list2)\n",
    "print(find_intersection(list1, list2))"
   ]
  },
  {
   "cell_type": "markdown",
   "metadata": {},
   "source": [
    "## 8. Start point of circular linked list"
   ]
  },
  {
   "cell_type": "code",
   "execution_count": 3,
   "metadata": {},
   "outputs": [],
   "source": [
    "# O(n)\n",
    "def circular_list_start(linkedList:LinkedList):\n",
    "    if linkedList.head is None or linkedList.head.next is None:\n",
    "        print(\"Error: No cycles in the list\")\n",
    "        return -1\n",
    "    \n",
    "    slow, fast = linkedList.head, linkedList.head\n",
    "    while True:\n",
    "        fast = fast.next.next\n",
    "        slow = slow.next\n",
    "        if fast is None or fast.next is None:\n",
    "            print(\"Error: No cycles in the list\")\n",
    "            return -1\n",
    "        elif fast == slow:\n",
    "            break\n",
    "    \n",
    "    fast = linkedList.head\n",
    "    while fast !=slow:\n",
    "        slow = slow.next\n",
    "        fast = fast.next\n",
    "    \n",
    "    return fast\n",
    "    \n",
    "    "
   ]
  },
  {
   "cell_type": "code",
   "execution_count": 7,
   "metadata": {},
   "outputs": [
    {
     "name": "stdout",
     "output_type": "stream",
     "text": [
      "3\n"
     ]
    }
   ],
   "source": [
    "linkedList = LinkedList()\n",
    "linkedList.add(1).add(2).add(3).add(4).add(5).add(6).add(7)\n",
    "last = linkedList.search(7)\n",
    "start_circle = linkedList.search(3)\n",
    "last.next = start_circle\n",
    "print(circular_list_start(linkedList))"
   ]
  },
  {
   "cell_type": "code",
   "execution_count": null,
   "metadata": {},
   "outputs": [],
   "source": []
  }
 ],
 "metadata": {
  "kernelspec": {
   "display_name": "Python 3",
   "language": "python",
   "name": "python3"
  },
  "language_info": {
   "codemirror_mode": {
    "name": "ipython",
    "version": 3
   },
   "file_extension": ".py",
   "mimetype": "text/x-python",
   "name": "python",
   "nbconvert_exporter": "python",
   "pygments_lexer": "ipython3",
   "version": "3.6.5"
  }
 },
 "nbformat": 4,
 "nbformat_minor": 2
}
