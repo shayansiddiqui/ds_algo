{
 "cells": [
  {
   "cell_type": "markdown",
   "metadata": {},
   "source": [
    "## Stack and Queue basic implementation"
   ]
  },
  {
   "cell_type": "code",
   "execution_count": 4,
   "metadata": {},
   "outputs": [],
   "source": [
    "class Node:\n",
    "    next = None\n",
    "    def __init__(self, value):\n",
    "        self.value = value\n",
    "        \n",
    "    def __str__(self):\n",
    "        return str(self.value)\n",
    "\n",
    "class Stack:\n",
    "    top:Node = None\n",
    "        \n",
    "    def push(self, value):\n",
    "        if self.top is None:\n",
    "            self.top = Node(value)\n",
    "        else:\n",
    "            newNode = Node(value)\n",
    "            newNode.next = self.top\n",
    "            self.top = newNode\n",
    "        return self\n",
    "            \n",
    "    def pop(self):\n",
    "        if self.top is None:\n",
    "            print(\"Error: Stack is empty\")\n",
    "            return -1\n",
    "        else:\n",
    "            popNode = self.top\n",
    "            self.top = popNode.next\n",
    "            popNode.next = None\n",
    "            return popNode.value\n",
    "\n",
    "    \n",
    "    def peek(self):\n",
    "        return self.top.value\n",
    "            \n",
    "    def isEmpty(self):\n",
    "        if self.top is None:\n",
    "            return True\n",
    "        else:\n",
    "            return False\n",
    "        \n",
    "    def __str__(self):\n",
    "        temp = self.top\n",
    "        values = []\n",
    "        while temp is not None:\n",
    "            values.append(str(temp.value))\n",
    "            temp=temp.next\n",
    "        return \"-->\".join(values)\n",
    "        \n",
    "class Queue:\n",
    "    front: Node = None\n",
    "    back: Node = None\n",
    "    \n",
    "    def enqueue(self, value):\n",
    "        newNode = Node(value)\n",
    "        if self.back is None and self.front is None:\n",
    "            self.front =  self.back = newNode\n",
    "            return self\n",
    "        else:\n",
    "            self.back.next = newNode\n",
    "            self.back = newNode\n",
    "            return self\n",
    "        \n",
    "    def dequeue(self):\n",
    "        if self.front is None:\n",
    "            print(\"Error: queue is empty\")\n",
    "            return None\n",
    "        else:\n",
    "            return_node = self.front\n",
    "            self.front = self.front.next\n",
    "            return_node.next = None\n",
    "            return return_node\n",
    "    \n",
    "    def __str__(self):\n",
    "        temp  = self.front\n",
    "        if temp is None:\n",
    "            return \"List is empty\"\n",
    "        values = []\n",
    "        while temp is not None:\n",
    "            values.append(str(temp.value))\n",
    "            temp=temp.next\n",
    "        return \"-->\".join(values)"
   ]
  },
  {
   "cell_type": "code",
   "execution_count": 14,
   "metadata": {},
   "outputs": [
    {
     "name": "stdout",
     "output_type": "stream",
     "text": [
      "100-->10-->2-->5\n"
     ]
    }
   ],
   "source": [
    "stack = Stack()\n",
    "stack.push(5).push(2).push(10).push(100).push(13)\n",
    "stack.pop()\n",
    "print(stack)"
   ]
  },
  {
   "cell_type": "code",
   "execution_count": 41,
   "metadata": {},
   "outputs": [
    {
     "name": "stdout",
     "output_type": "stream",
     "text": [
      "5-->2-->100-->13-->33-->17\n",
      "2-->100-->13-->33-->17\n"
     ]
    }
   ],
   "source": [
    "queue = Queue()\n",
    "queue.enqueue(5).enqueue(2).enqueue(100).enqueue(13).enqueue(33).enqueue(17)\n",
    "print(queue)\n",
    "queue.dequeue()\n",
    "print(queue)"
   ]
  },
  {
   "cell_type": "markdown",
   "metadata": {},
   "source": [
    "## 1. Three stacks with an array (Fixed)"
   ]
  },
  {
   "cell_type": "code",
   "execution_count": 97,
   "metadata": {},
   "outputs": [],
   "source": [
    "#One point to remember is to use be scalable and use an array to store the relevant indexing of the stacks\n",
    "class StackArray:\n",
    "    arr = []\n",
    "    start = []\n",
    "    top = []\n",
    "    def __init__(self, max_length=10):\n",
    "        self.max_length=max_length\n",
    "        self.start = [0, max_length, 2*max_length]\n",
    "        self.top = [-1, max_length-1, 2 * max_length - 1]\n",
    "        self.arr = [None] * (self.max_length * 3)\n",
    "        \n",
    "    def push(self, value, id=0):\n",
    "        if self.top[id] - self.start[id] < self.max_length - 1:\n",
    "            self.top[id]+=1\n",
    "            self.arr[self.top[id]] = value\n",
    "            return self\n",
    "        else:\n",
    "            print(\"Error: The stack is full please push into another stack\")\n",
    "            return -1\n",
    "                             \n",
    "    def pop(self, id = 0):\n",
    "        if self.top[id] < self.start[id]:\n",
    "            print(\"Error: The stack is already empty\")\n",
    "            return -1\n",
    "        item = self.arr[self.top[id]]\n",
    "        self.top[id]-=1\n",
    "        return item\n",
    "    \n",
    "    def peek(self, id = 0):\n",
    "        if self.top[id] < self.start[id]:\n",
    "            print(\"Error: The stack is already empty\")\n",
    "            return -1\n",
    "        else:\n",
    "            return self.arr[self.top[id]]\n",
    "    \n",
    "    def isEmpty(self, id):\n",
    "        if self.top[id] < self.start[id]:\n",
    "            return True\n",
    "        else:\n",
    "            return False\n",
    "        \n",
    "    def __str__(self):\n",
    "        str_stacks = []\n",
    "        for i in range(3):\n",
    "            stack = []\n",
    "            if self.top[i] >= self.start[i]:\n",
    "                temp = self.top[i]\n",
    "                while temp >= self.start[i]:\n",
    "                    stack.append(str(self.arr[temp]))\n",
    "                    temp-=1\n",
    "                str_stacks.append(\"-->\".join(stack))\n",
    "            else:\n",
    "                str_stacks.append(\"Empty List\")\n",
    "        return \"\\n\".join(str_stacks)\n",
    "            "
   ]
  },
  {
   "cell_type": "code",
   "execution_count": 104,
   "metadata": {},
   "outputs": [
    {
     "name": "stdout",
     "output_type": "stream",
     "text": [
      "5-->4-->3-->2-->1\n",
      "9-->8-->7-->6\n",
      "Empty List\n"
     ]
    }
   ],
   "source": [
    "stack = StackArray(5)\n",
    "stack.push(1, 0).push(2, 0).push(3, 0).push(4, 0).push(5, 0)\n",
    "stack.push(6, 1).push(7, 1).push(8, 1).push(9, 1).push(10, 1)\n",
    "stack.pop(1)\n",
    "print(stack)"
   ]
  },
  {
   "cell_type": "markdown",
   "metadata": {},
   "source": [
    "## 2. Keep track of minimum element"
   ]
  },
  {
   "cell_type": "code",
   "execution_count": 107,
   "metadata": {},
   "outputs": [],
   "source": [
    "class StackMinNode:\n",
    "    next = None\n",
    "    minimum  = None\n",
    "    value = None\n",
    "    def __init__(self, value):\n",
    "        self.value = value\n",
    "        self.minimum = value\n",
    "        \n",
    "class StackMin:\n",
    "    top = None\n",
    "    def push(self, value):\n",
    "        newNode = StackMinNode(value)\n",
    "        if self.top is not None:\n",
    "            if self.top.minimum > newNode.value:\n",
    "                newNode.minimum = newNode.value\n",
    "            else:\n",
    "                newNode.minimum = self.top.minimum\n",
    "        newNode.next = self.top\n",
    "        self.top = newNode\n",
    "        return self\n",
    "        \n",
    "    def pop(self):\n",
    "        if self.top is None:\n",
    "            prrint(\"Error: Stack is empty\")\n",
    "            return None\n",
    "        else:\n",
    "            return_node = self.top\n",
    "            self.top = self.top.next\n",
    "            return_node.next=None\n",
    "            return return_node\n",
    "    \n",
    "    def getMin(self):\n",
    "        if self.top is not None:\n",
    "            return self.top.minimum\n",
    "        else:\n",
    "            print(\"Error: The stack is emtpy\")\n",
    "            return None\n",
    "            \n",
    "                "
   ]
  },
  {
   "cell_type": "code",
   "execution_count": 114,
   "metadata": {},
   "outputs": [
    {
     "name": "stdout",
     "output_type": "stream",
     "text": [
      "2\n"
     ]
    }
   ],
   "source": [
    "stackMin = StackMin()\n",
    "stackMin.push(2).push(100).push(1).push(5).push(18)\n",
    "stackMin.pop()\n",
    "stackMin.pop()\n",
    "stackMin.pop()\n",
    "print(stackMin.getMin())"
   ]
  },
  {
   "cell_type": "markdown",
   "metadata": {},
   "source": [
    "## 3. Set of Stacks"
   ]
  },
  {
   "cell_type": "code",
   "execution_count": 45,
   "metadata": {},
   "outputs": [],
   "source": [
    "class SetofStacks:\n",
    "    def __init__(self, max_size=10):\n",
    "        self.set_of_stacks = [Stack()]\n",
    "        self.stack_size = 0\n",
    "        self.max_size = max_size\n",
    "    \n",
    "    def push(self, value):\n",
    "        last_stack = self.set_of_stacks[-1]\n",
    "        last_stack.push(value)\n",
    "        self.stack_size+=1\n",
    "        if self.stack_size >= self.max_size:\n",
    "            self.set_of_stacks.append(Stack())\n",
    "            self.stack_size = 0\n",
    "        return self\n",
    "            \n",
    "    def pop(self):\n",
    "        if self.stack_size <= 0:\n",
    "            if len(self.set_of_stacks) > 1:\n",
    "                del self.set_of_stacks[-1]\n",
    "                self.stack_size = 0\n",
    "            else:\n",
    "                print(\"Error: stack is empty\")\n",
    "                return None\n",
    "        last_stack = self.set_of_stacks[-1]\n",
    "        item = last_stack.pop()\n",
    "        self.stack_size-=1\n",
    "        return item"
   ]
  },
  {
   "cell_type": "code",
   "execution_count": 51,
   "metadata": {},
   "outputs": [
    {
     "data": {
      "text/plain": [
       "<__main__.SetofStacks at 0x10fc880f0>"
      ]
     },
     "execution_count": 51,
     "metadata": {},
     "output_type": "execute_result"
    }
   ],
   "source": [
    "setofStacks = SetofStacks(2)\n",
    "setofStacks.push(1).push(2).push(3)\n",
    "setofStacks.pop()\n",
    "setofStacks.push(2)"
   ]
  },
  {
   "cell_type": "markdown",
   "metadata": {},
   "source": [
    "## 4. Queue with 2 stacks"
   ]
  },
  {
   "cell_type": "code",
   "execution_count": 30,
   "metadata": {},
   "outputs": [],
   "source": [
    "class QueueWithStacks:\n",
    "    \n",
    "    def __init__(self):\n",
    "        self.enqueue_stack = Stack()\n",
    "        self.dequeue_stack = Stack()        \n",
    "    \n",
    "    def enqueue(self, value):\n",
    "        self.enqueue_stack.push(value)\n",
    "        return self\n",
    "    \n",
    "    def dequeue(self):\n",
    "        if self.dequeue_stack.isEmpty():\n",
    "            while not self.enqueue_stack.isEmpty():\n",
    "                item = self.enqueue_stack.pop()\n",
    "                self.dequeue_stack.push(item)\n",
    "        return self.dequeue_stack.pop()\n",
    "        "
   ]
  },
  {
   "cell_type": "code",
   "execution_count": 31,
   "metadata": {},
   "outputs": [
    {
     "data": {
      "text/plain": [
       "5"
      ]
     },
     "execution_count": 31,
     "metadata": {},
     "output_type": "execute_result"
    }
   ],
   "source": [
    "queueWithStacks = QueueWithStacks()\n",
    "queueWithStacks.enqueue(1).enqueue(2)\n",
    "queueWithStacks.dequeue()\n",
    "queueWithStacks.enqueue(5).enqueue(6).enqueue(7)\n",
    "queueWithStacks.dequeue()\n",
    "queueWithStacks.dequeue()"
   ]
  },
  {
   "cell_type": "markdown",
   "metadata": {},
   "source": [
    "## 5. Sort Stack"
   ]
  },
  {
   "cell_type": "code",
   "execution_count": 52,
   "metadata": {},
   "outputs": [],
   "source": [
    "def sort_stack(unsorted_stack):\n",
    "    sorted_stack = Stack()\n",
    "    while not unsorted_stack.isEmpty():\n",
    "        temp = unsorted_stack.pop()\n",
    "        while not sorted_stack.isEmpty() and sorted_stack.peek() < temp:\n",
    "            unsorted_stack.push(sorted_stack.pop())\n",
    "        sorted_stack.push(temp)\n",
    "    return sorted_stack"
   ]
  },
  {
   "cell_type": "code",
   "execution_count": 55,
   "metadata": {},
   "outputs": [
    {
     "name": "stdout",
     "output_type": "stream",
     "text": [
      "1-->3-->5-->10-->11\n"
     ]
    }
   ],
   "source": [
    "unsorted_stack = Stack()\n",
    "unsorted_stack.push(5).push(10).push(1).push(3).push(11)\n",
    "print(sort_stack(unsorted_stack))"
   ]
  },
  {
   "cell_type": "markdown",
   "metadata": {},
   "source": [
    "## 6. Animal Shelter"
   ]
  },
  {
   "cell_type": "code",
   "execution_count": null,
   "metadata": {},
   "outputs": [],
   "source": []
  }
 ],
 "metadata": {
  "kernelspec": {
   "display_name": "Python 3",
   "language": "python",
   "name": "python3"
  },
  "language_info": {
   "codemirror_mode": {
    "name": "ipython",
    "version": 3
   },
   "file_extension": ".py",
   "mimetype": "text/x-python",
   "name": "python",
   "nbconvert_exporter": "python",
   "pygments_lexer": "ipython3",
   "version": "3.6.5"
  }
 },
 "nbformat": 4,
 "nbformat_minor": 2
}
