{
 "cells": [
  {
   "cell_type": "markdown",
   "metadata": {},
   "source": [
    "## 1. Is Unique"
   ]
  },
  {
   "cell_type": "code",
   "execution_count": 95,
   "metadata": {},
   "outputs": [],
   "source": [
    "# Uses additional space\n",
    "def isUnique(value):\n",
    "    count_dict = {}\n",
    "    for i in value:\n",
    "        count_dict[i] = 0\n",
    "\n",
    "    for i in value:\n",
    "        count_dict[i]+=1\n",
    "        if count_dict[i] > 1:\n",
    "            return False\n",
    "\n",
    "    return True\n",
    "\n",
    "#O(1) space complexity, assuming the characters from a - z\n",
    "def isUnique_bit(value):\n",
    "    checker = 0\n",
    "    for s in value:\n",
    "        val = ord(s) - ord('a')\n",
    "        if((checker & (1 << val)) > 0):\n",
    "            return False\n",
    "        checker = checker | (1 << val)\n",
    "    return True"
   ]
  },
  {
   "cell_type": "code",
   "execution_count": 97,
   "metadata": {},
   "outputs": [
    {
     "name": "stdout",
     "output_type": "stream",
     "text": [
      "True\n"
     ]
    }
   ],
   "source": [
    "print(isUnique_bit('abz'))"
   ]
  },
  {
   "cell_type": "markdown",
   "metadata": {},
   "source": [
    "## 2. One string permutation of other"
   ]
  },
  {
   "cell_type": "code",
   "execution_count": 103,
   "metadata": {},
   "outputs": [],
   "source": [
    "# One solution is to sort the strings and then compare them. It will take O(nlogn)\n",
    "# This solution creates a count table on one string and then removes on other string\n",
    "def is_permutation(str1, str2):\n",
    "    if(len(str1)!=len(str2)):\n",
    "        return False\n",
    "    count_freq = {key:0 for key in str1}\n",
    "    for s in str1:\n",
    "        count_freq[s]+=1\n",
    "    for s in str2:\n",
    "        count_freq[s]-=1\n",
    "        if count_freq[s] < 0:\n",
    "            return False\n",
    "    return True"
   ]
  },
  {
   "cell_type": "code",
   "execution_count": 108,
   "metadata": {},
   "outputs": [
    {
     "data": {
      "text/plain": [
       "True"
      ]
     },
     "execution_count": 108,
     "metadata": {},
     "output_type": "execute_result"
    }
   ],
   "source": [
    "is_permutation('aba', 'baa')"
   ]
  },
  {
   "cell_type": "markdown",
   "metadata": {},
   "source": [
    "## 3. URLify"
   ]
  },
  {
   "cell_type": "code",
   "execution_count": 51,
   "metadata": {},
   "outputs": [],
   "source": [
    "def URLify(str_input, length):\n",
    "    str_input = list(str_input)\n",
    "    last_index = len(str_input)\n",
    "    for i in reversed(range(length)):\n",
    "        if str_input[i] == ' ':\n",
    "            str_input[last_index-3:last_index] = '%20'\n",
    "            last_index-=3\n",
    "        else:\n",
    "            str_input[last_index-1] = str_input[i]\n",
    "            last_index-=1\n",
    "    return ''.join(str_input)"
   ]
  },
  {
   "cell_type": "code",
   "execution_count": 52,
   "metadata": {},
   "outputs": [
    {
     "data": {
      "text/plain": [
       "'a%20b'"
      ]
     },
     "execution_count": 52,
     "metadata": {},
     "output_type": "execute_result"
    }
   ],
   "source": [
    "URLify('a b  ', 3)"
   ]
  },
  {
   "cell_type": "markdown",
   "metadata": {},
   "source": [
    "## 4. Permutation of a Palindrome"
   ]
  },
  {
   "cell_type": "code",
   "execution_count": 92,
   "metadata": {},
   "outputs": [],
   "source": [
    "# O(n! * n) of the naive solution where you would calculate every permutation and then check whether its a palindrome or not\n",
    "# Optimal solution is O(n)\n",
    "\n",
    "#Iterates through the dictionary\n",
    "def is_permutation_palindrome(str_input):\n",
    "    str_input = replace_spaces(str_input)\n",
    "    char_freq = {key:0 for key in str_input}\n",
    "    for s in str_input:\n",
    "        char_freq[s]+=1\n",
    "    no_odds = 0\n",
    "    for key,val in char_freq.items():\n",
    "        if val % 2 == 1:\n",
    "            no_odds+=1\n",
    "    if no_odds > 1:\n",
    "        return False\n",
    "    else:\n",
    "        return True\n",
    "    \n",
    "# Uses a bitwise vector mask to store result instead of iterating through hashtable    \n",
    "def is_permutation_palindrome_b(str_input):\n",
    "    str_input = replace_spaces(str_input)\n",
    "    char_freq = {key:0 for key in str_input}\n",
    "    frequency_vector = 0\n",
    "    for s in str_input:\n",
    "        char_freq[s]+=1\n",
    "        \n",
    "    for s in str_input:\n",
    "        if char_freq[s] % 2 == 1:\n",
    "            mask = 1 << (ord(s) - ord('a'))\n",
    "            frequency_vector = frequency_vector | mask\n",
    "\n",
    "    if (frequency_vector & (frequency_vector - 1)) == 0:\n",
    "        return True\n",
    "    else:\n",
    "        return False\n",
    "    \n",
    "def replace_spaces(str_input):\n",
    "    str_input = list(str_input)\n",
    "    str_input = [s for s in str_input if s!=' ']\n",
    "    return ''.join(str_input)\n"
   ]
  },
  {
   "cell_type": "code",
   "execution_count": 91,
   "metadata": {},
   "outputs": [
    {
     "data": {
      "text/plain": [
       "True"
      ]
     },
     "execution_count": 91,
     "metadata": {},
     "output_type": "execute_result"
    }
   ],
   "source": [
    "is_permutation_palindrome_b('abbbbaa')"
   ]
  },
  {
   "cell_type": "markdown",
   "metadata": {},
   "source": [
    "## 5. One Away"
   ]
  },
  {
   "cell_type": "code",
   "execution_count": 116,
   "metadata": {},
   "outputs": [],
   "source": [
    "## For same length its easy to count the distinct characters which takes O(n).\n",
    "## For length one smaller You can remove iterate through the bigger string and remove one letter on each iteration and then\n",
    "## -- compare both. O(n*n)\n",
    "# Following solution takes O(n)\n",
    "\n",
    "def one_away(str1, str2):\n",
    "    len1 = len(str1)\n",
    "    len2 = len(str2)\n",
    "    diff = abs(len1 - len2)\n",
    "    \n",
    "    if diff > 2:\n",
    "        return False\n",
    "    elif diff == 1:\n",
    "        bigger = str1 if len1>len2 else str2\n",
    "        smaller = str2 if bigger == str1 else str1\n",
    "        i=0\n",
    "        count=0\n",
    "        for s in bigger:\n",
    "            if s!=smaller[i]:\n",
    "                count +=1\n",
    "                continue\n",
    "            else:\n",
    "                i+=1\n",
    "        if count > 1:\n",
    "            return False\n",
    "        else:\n",
    "            return True\n",
    "    else:\n",
    "        count =0\n",
    "        for i, s in enumerate(str1):\n",
    "            if s!=str2[i]:\n",
    "                count+=1\n",
    "        if count>1:\n",
    "            return False\n",
    "        else:\n",
    "            return True\n",
    "        "
   ]
  },
  {
   "cell_type": "code",
   "execution_count": 117,
   "metadata": {},
   "outputs": [
    {
     "data": {
      "text/plain": [
       "False"
      ]
     },
     "execution_count": 117,
     "metadata": {},
     "output_type": "execute_result"
    }
   ],
   "source": [
    "one_away('pale', 'bake')"
   ]
  },
  {
   "cell_type": "markdown",
   "metadata": {},
   "source": [
    "## 6. String Compression"
   ]
  },
  {
   "cell_type": "code",
   "execution_count": 138,
   "metadata": {},
   "outputs": [],
   "source": [
    "def compress(str_input):\n",
    "    compressed = []\n",
    "    count = 1\n",
    "    for i, s in enumerate(str_input):\n",
    "        if(i+1<len(str_input) and s == str_input[i+1]):\n",
    "            count+=1\n",
    "        else:\n",
    "            compressed.append(s)\n",
    "            if count!=1:\n",
    "                compressed.append(str(count))\n",
    "            count=1\n",
    "            \n",
    "    return ''.join(compressed)"
   ]
  },
  {
   "cell_type": "code",
   "execution_count": 140,
   "metadata": {},
   "outputs": [
    {
     "data": {
      "text/plain": [
       "'abc'"
      ]
     },
     "execution_count": 140,
     "metadata": {},
     "output_type": "execute_result"
    }
   ],
   "source": [
    "compress('abc')"
   ]
  },
  {
   "cell_type": "markdown",
   "metadata": {},
   "source": [
    "## Matrix rotation"
   ]
  },
  {
   "cell_type": "code",
   "execution_count": 188,
   "metadata": {},
   "outputs": [],
   "source": [
    "## This code took quite a long time to formulate. The key point here is to look for small recurring solution in the bigger \n",
    "## -- problem which can be repeated over again. Also take notice of the indexes very carefully while formulating\n",
    "## O(n*n)\n",
    "import math\n",
    "\n",
    "def rotate_90(matrix):\n",
    "    size = len(matrix)\n",
    "    layers = math.ceil(size/2)\n",
    "    for i in range(layers):\n",
    "        for j in range(i, size-1-i):\n",
    "            #swapping\n",
    "            temp = matrix[j][size-1-i]\n",
    "            matrix[j][size-1-i]=matrix[i][j]\n",
    "            matrix[i][j]=matrix[size-1-j][i]\n",
    "            matrix[size-1-j][i]=matrix[size-1-i][size-1-j]\n",
    "            matrix[size-1-i][size-1-j]=temp\n",
    "    return matrix"
   ]
  },
  {
   "cell_type": "code",
   "execution_count": 189,
   "metadata": {},
   "outputs": [
    {
     "data": {
      "text/plain": [
       "[[13, 9, 5, 1], [14, 10, 6, 2], [15, 11, 7, 3], [16, 12, 8, 4]]"
      ]
     },
     "execution_count": 189,
     "metadata": {},
     "output_type": "execute_result"
    }
   ],
   "source": [
    "rotate_90([[1,2,3,4],[5,6,7,8],[9,10,11,12],[13,14,15,16]])"
   ]
  },
  {
   "cell_type": "markdown",
   "metadata": {},
   "source": [
    "## Zero Matrix"
   ]
  },
  {
   "cell_type": "code",
   "execution_count": 204,
   "metadata": {},
   "outputs": [],
   "source": [
    "def zero_matrix(matrix):\n",
    "    row_zero=False\n",
    "    col_zero=False\n",
    "    size = len(matrix)\n",
    "    for i in matrix[0]:\n",
    "        if i == 0:\n",
    "            row_zero = True\n",
    "    for i in matrix[:0]:\n",
    "        if i ==0:\n",
    "            col_zero = True\n",
    "        \n",
    "    for i in range(size):\n",
    "        for j in range(size):\n",
    "            if matrix[i][j] == 0:\n",
    "                matrix[i][0]=0\n",
    "                matrix[0][j]=0\n",
    "    \n",
    "    for i in matrix[:0]:\n",
    "        if i == 0:\n",
    "            \n",
    "            set_zero(matrix[i])\n",
    "            \n",
    "    for i in matrix[0:]:\n",
    "        if i == 0:\n",
    "            set_zero(matrix[:][i])\n",
    "            \n",
    "    if row_zero:\n",
    "        set_zero(matrix[0])\n",
    "    if col_zero:\n",
    "        set_zero(matrix[:][0])\n",
    "            \n",
    "    return matrix\n",
    "\n",
    "def set_zero(arr):\n",
    "    for i in range(len(arr)):\n",
    "        arr[i]=0\n",
    "    return arr"
   ]
  },
  {
   "cell_type": "code",
   "execution_count": 206,
   "metadata": {},
   "outputs": [
    {
     "data": {
      "text/plain": [
       "[[0, 0, 0], [3, 4, 5], [6, 7, 8]]"
      ]
     },
     "execution_count": 206,
     "metadata": {},
     "output_type": "execute_result"
    }
   ],
   "source": [
    "zero_matrix([[0,1,0],[3,4,5],[6,7,8]])"
   ]
  },
  {
   "cell_type": "code",
   "execution_count": null,
   "metadata": {},
   "outputs": [],
   "source": []
  }
 ],
 "metadata": {
  "kernelspec": {
   "display_name": "Python 3",
   "language": "python",
   "name": "python3"
  },
  "language_info": {
   "codemirror_mode": {
    "name": "ipython",
    "version": 3
   },
   "file_extension": ".py",
   "mimetype": "text/x-python",
   "name": "python",
   "nbconvert_exporter": "python",
   "pygments_lexer": "ipython3",
   "version": "3.6.5"
  }
 },
 "nbformat": 4,
 "nbformat_minor": 2
}
